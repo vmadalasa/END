{
  "nbformat": 4,
  "nbformat_minor": 0,
  "metadata": {
    "colab": {
      "name": "MV_NarrativeQAdataset_assignment1 _S9_END.ipynb",
      "provenance": [],
      "collapsed_sections": [],
      "include_colab_link": true
    },
    "kernelspec": {
      "name": "python3",
      "display_name": "Python 3"
    },
    "accelerator": "GPU"
  },
  "cells": [
    {
      "cell_type": "markdown",
      "metadata": {
        "id": "view-in-github",
        "colab_type": "text"
      },
      "source": [
        "<a href=\"https://colab.research.google.com/github/vmadalasa/END/blob/main/Session9/Model1/MV_NarrativeQAdataset_assignment1__S9_END.ipynb\" target=\"_parent\"><img src=\"https://colab.research.google.com/assets/colab-badge.svg\" alt=\"Open In Colab\"/></a>"
      ]
    },
    {
      "cell_type": "markdown",
      "metadata": {
        "id": "F9sZICP1aFme"
      },
      "source": [
        "The NarrativeQA Reading Comprehension Challenge\n",
        "\n",
        "arvix paper - https://arxiv.org/pdf/1712.07040.pdf\n",
        "\n",
        "The NarrativeQA Reading Comprehension Challenge\n",
        "\n",
        "github link https://github.com/deepmind/narrativeqa\n",
        "\n",
        "also used github project https://github.com/CpuKnows/NarrativeQA-Project for some doubts and inspiration\n",
        "\n",
        "Reading comprehension (RC)—in contrast to\n",
        "information retrieval—requires integrating information and reasoning about events, entities, and their relations across a full document.\n",
        "Question answering is conventionally used to\n",
        "assess RC ability, in both artificial agents and\n",
        "children learning to read. However, existing\n",
        "RC datasets and tasks are dominated by questions that can be solved by selecting answers\n",
        "using superficial information (e.g., local context similarity or global term frequency); they\n",
        "thus fail to test for the essential integrative aspect of RC. To encourage progress on deeper\n",
        "comprehension of language, we present a new\n",
        "dataset and set of tasks in which the reader\n",
        "must answer questions about stories by reading\n",
        "entire books or movie scripts. These tasks are\n",
        "designed so that successfully answering their\n",
        "questions requires understanding the underlying narrative rather than relying on shallow\n",
        "pattern matching or salience. We show that although humans solve the tasks easily, standard\n",
        "RC models struggle on the tasks presented here.\n",
        "We provide an analysis of the dataset and the\n",
        "challenges it presents.\n",
        "RNN Seq2Seq Encoder Decoder solution with Learning Phrase Representation"
      ]
    },
    {
      "cell_type": "markdown",
      "metadata": {
        "id": "SdNRJttHnENK"
      },
      "source": [
        "# 2 - Learning Phrase Representations using RNN Encoder-Decoder for Statistical Machine Translation\n",
        "\n",
        "In this second notebook on sequence-to-sequence models using PyTorch and TorchText, we'll be implementing the model from [Learning Phrase Representations using RNN Encoder-Decoder for Statistical Machine Translation](https://arxiv.org/abs/1406.1078). This model will achieve improved test perplexity whilst only using a single layer RNN in both the encoder and the decoder.\n",
        "\n",
        "## Introduction\n",
        "\n",
        "Let's remind ourselves of the general encoder-decoder model.\n",
        "\n",
        "![](https://github.com/bentrevett/pytorch-seq2seq/blob/master/assets/seq2seq1.png?raw=1)\n",
        "\n",
        "We use our encoder (green) over the embedded source sequence (yellow) to create a context vector (red). We then use that context vector with the decoder (blue) and a linear layer (purple) to generate the target sentence.\n",
        "\n",
        "In the previous model, we used an multi-layered LSTM as the encoder and decoder.\n",
        "\n",
        "![](https://github.com/bentrevett/pytorch-seq2seq/blob/master/assets/seq2seq4.png?raw=1)\n",
        "\n",
        "One downside of the previous model is that the decoder is trying to cram lots of information into the hidden states. Whilst decoding, the hidden state will need to contain information about the whole of the source sequence, as well as all of the tokens have been decoded so far. By alleviating some of this information compression, we can create a better model!\n",
        "\n",
        "We'll also be using a GRU (Gated Recurrent Unit) instead of an LSTM (Long Short-Term Memory). Why? Mainly because that's what they did in the paper (this paper also introduced GRUs) and also because we used LSTMs last time. To understand how GRUs (and LSTMs) differ from standard RNNS, check out [this](https://colah.github.io/posts/2015-08-Understanding-LSTMs/) link. Is a GRU better than an LSTM? [Research](https://arxiv.org/abs/1412.3555) has shown they're pretty much the same, and both are better than standard RNNs. \n",
        "\n",
        "## Preparing Data\n",
        "\n",
        "All of the data preparation will be (almost) the same as last time, so we'll very briefly detail what each code block does. See the previous notebook for a recap.\n",
        "\n",
        "We'll import PyTorch, TorchText, spaCy and a few standard modules."
      ]
    },
    {
      "cell_type": "markdown",
      "metadata": {
        "id": "Tj4j6gvvaQ-m"
      },
      "source": [
        "### NarrativeQA dataset\r\n",
        "\r\n",
        "#### Files\r\n",
        "* documents.csv - contains document_id, set, kind, story_url, story_file_size, wiki_url, wiki_title, story_word_count, story_start, story_end. The word count is approximate after some basic cleanup and tokenization.\r\n",
        "\r\n",
        "* third_party/wikipedia/summaries.csv - contains document_id, set, summary, summary_tokenized. The summaries are from Wikipedia.\r\n",
        "\r\n",
        "* qaps.csv - contains document_id, set, question, answer1, answer2, question_tokenized, answer1_tokenized, answer2_tokenized.\r\n",
        "download_stories.sh - script to download the stories.\r\n",
        "\r\n",
        "* compare.sh - compare downloaded story's file size to the document size we had. (At the time of publication, all stories have <3.5% file difference (except one), likely due to punctuation encoding.)\r\n"
      ]
    },
    {
      "cell_type": "code",
      "metadata": {
        "colab": {
          "base_uri": "https://localhost:8080/"
        },
        "id": "4rBzU2NPZ8Br",
        "outputId": "e4957a72-14e9-4b5d-bb3d-3e20466b27b8"
      },
      "source": [
        "!git clone https://github.com/deepmind/narrativeqa.git"
      ],
      "execution_count": 1,
      "outputs": [
        {
          "output_type": "stream",
          "text": [
            "Cloning into 'narrativeqa'...\n",
            "remote: Enumerating objects: 25, done.\u001b[K\n",
            "remote: Total 25 (delta 0), reused 0 (delta 0), pack-reused 25\u001b[K\n",
            "Unpacking objects: 100% (25/25), done.\n"
          ],
          "name": "stdout"
        }
      ]
    },
    {
      "cell_type": "markdown",
      "metadata": {
        "id": "zZ-9F6nianYG"
      },
      "source": [
        "### Necessary packages"
      ]
    },
    {
      "cell_type": "code",
      "metadata": {
        "id": "93aSRVQ0aewZ"
      },
      "source": [
        "# Packages\r\n",
        "import pandas as pd\r\n",
        "import numpy as np\r\n",
        "\r\n",
        "#torch \r\n",
        "import torch\r\n",
        "import torch.nn as nn\r\n",
        "\r\n",
        "#optimization\r\n",
        "import torch.optim as optim\r\n",
        "from torchtext import data\r\n",
        "from torchtext.data import Field, BucketIterator\r\n",
        "\r\n",
        "#preprocessing\r\n",
        "import spacy\r\n",
        "\r\n",
        "\r\n",
        "\r\n",
        "\r\n",
        "\r\n",
        "import math\r\n",
        "import time"
      ],
      "execution_count": 2,
      "outputs": []
    },
    {
      "cell_type": "code",
      "metadata": {
        "id": "9ug_3oSZeaz5"
      },
      "source": [
        "import random\r\n",
        "SEED = 1234\r\n",
        "\r\n",
        "random.seed(SEED)\r\n",
        "np.random.seed(SEED)\r\n",
        "torch.manual_seed(SEED)\r\n",
        "torch.cuda.manual_seed(SEED)\r\n",
        "torch.backends.cudnn.deterministic = True"
      ],
      "execution_count": 3,
      "outputs": []
    },
    {
      "cell_type": "markdown",
      "metadata": {
        "id": "nNFtQ-DIbATo"
      },
      "source": [
        "### Load dataset\r\n",
        "\r\n",
        "Load dataset and split into train, valid and test. We are picking question and answer1 columns to predict the seq2seq translations."
      ]
    },
    {
      "cell_type": "code",
      "metadata": {
        "colab": {
          "base_uri": "https://localhost:8080/",
          "height": 1000
        },
        "id": "k9vJwJWia_Y1",
        "outputId": "bfa1a3a2-c537-4c12-ce17-803b14cf6020"
      },
      "source": [
        "df_qaps = pd.read_csv('/content/narrativeqa/qaps.csv')\r\n",
        "print(df_qaps.shape)\r\n",
        "print(\"Columns of qaps: \",df_qaps.columns)\r\n",
        "df_qaps[:10]"
      ],
      "execution_count": 4,
      "outputs": [
        {
          "output_type": "stream",
          "text": [
            "(46765, 8)\n",
            "Columns of qaps:  Index(['document_id', 'set', 'question', 'answer1', 'answer2',\n",
            "       'question_tokenized', 'answer1_tokenized', 'answer2_tokenized'],\n",
            "      dtype='object')\n"
          ],
          "name": "stdout"
        },
        {
          "output_type": "execute_result",
          "data": {
            "text/html": [
              "<div>\n",
              "<style scoped>\n",
              "    .dataframe tbody tr th:only-of-type {\n",
              "        vertical-align: middle;\n",
              "    }\n",
              "\n",
              "    .dataframe tbody tr th {\n",
              "        vertical-align: top;\n",
              "    }\n",
              "\n",
              "    .dataframe thead th {\n",
              "        text-align: right;\n",
              "    }\n",
              "</style>\n",
              "<table border=\"1\" class=\"dataframe\">\n",
              "  <thead>\n",
              "    <tr style=\"text-align: right;\">\n",
              "      <th></th>\n",
              "      <th>document_id</th>\n",
              "      <th>set</th>\n",
              "      <th>question</th>\n",
              "      <th>answer1</th>\n",
              "      <th>answer2</th>\n",
              "      <th>question_tokenized</th>\n",
              "      <th>answer1_tokenized</th>\n",
              "      <th>answer2_tokenized</th>\n",
              "    </tr>\n",
              "  </thead>\n",
              "  <tbody>\n",
              "    <tr>\n",
              "      <th>0</th>\n",
              "      <td>0025577043f5090cd603c6aea60f26e236195594</td>\n",
              "      <td>test</td>\n",
              "      <td>Who is Mark Hunter?</td>\n",
              "      <td>He is a high school student in Phoenix.</td>\n",
              "      <td>A loner and outsider student with a radio stat...</td>\n",
              "      <td>Who is Mark Hunter ?</td>\n",
              "      <td>He is a high school student in Phoenix .</td>\n",
              "      <td>A loner and outsider student with a radio stat...</td>\n",
              "    </tr>\n",
              "    <tr>\n",
              "      <th>1</th>\n",
              "      <td>0025577043f5090cd603c6aea60f26e236195594</td>\n",
              "      <td>test</td>\n",
              "      <td>Where does this radio station take place?</td>\n",
              "      <td>It takes place in Mark's parents basement.</td>\n",
              "      <td>Phoenix, Arizona</td>\n",
              "      <td>Where does this radio station take place ?</td>\n",
              "      <td>It takes place in Mark s parents basement .</td>\n",
              "      <td>Phoenix , Arizona</td>\n",
              "    </tr>\n",
              "    <tr>\n",
              "      <th>2</th>\n",
              "      <td>0025577043f5090cd603c6aea60f26e236195594</td>\n",
              "      <td>test</td>\n",
              "      <td>Why do more students tune into Mark's show?</td>\n",
              "      <td>Mark talks about what goes on at school and in...</td>\n",
              "      <td>Because he has a thing to say about what is ha...</td>\n",
              "      <td>Why do more students tune into Mark s show ?</td>\n",
              "      <td>Mark talks about what goes on at school and in...</td>\n",
              "      <td>Because he has a thing to say about what is ha...</td>\n",
              "    </tr>\n",
              "    <tr>\n",
              "      <th>3</th>\n",
              "      <td>0025577043f5090cd603c6aea60f26e236195594</td>\n",
              "      <td>test</td>\n",
              "      <td>Who commits suicide?</td>\n",
              "      <td>Malcolm.</td>\n",
              "      <td>Malcolm.</td>\n",
              "      <td>Who commits suicide ?</td>\n",
              "      <td>Malcolm .</td>\n",
              "      <td>Malcolm .</td>\n",
              "    </tr>\n",
              "    <tr>\n",
              "      <th>4</th>\n",
              "      <td>0025577043f5090cd603c6aea60f26e236195594</td>\n",
              "      <td>test</td>\n",
              "      <td>What does Paige jam into her microwave?</td>\n",
              "      <td>She jams her medals and accolades.</td>\n",
              "      <td>Her award medals</td>\n",
              "      <td>What does Paige jam into her microwave ?</td>\n",
              "      <td>She jams her medals and accolades .</td>\n",
              "      <td>Her award medals</td>\n",
              "    </tr>\n",
              "    <tr>\n",
              "      <th>5</th>\n",
              "      <td>0025577043f5090cd603c6aea60f26e236195594</td>\n",
              "      <td>test</td>\n",
              "      <td>What does Mark do with his radio station?</td>\n",
              "      <td>He dismantles it and attaches it to his mother...</td>\n",
              "      <td>Dismantle it.</td>\n",
              "      <td>What does Mark do with his radio station ?</td>\n",
              "      <td>He dismantles it and attaches it to his mother...</td>\n",
              "      <td>Dismantle it .</td>\n",
              "    </tr>\n",
              "    <tr>\n",
              "      <th>6</th>\n",
              "      <td>0025577043f5090cd603c6aea60f26e236195594</td>\n",
              "      <td>test</td>\n",
              "      <td>What does Mark tell the protesting students?</td>\n",
              "      <td>He tells them to make their own future.</td>\n",
              "      <td>That they should make their own future because...</td>\n",
              "      <td>What does Mark tell the protesting students ?</td>\n",
              "      <td>He tells them to make their own future .</td>\n",
              "      <td>That they should make their own future because...</td>\n",
              "    </tr>\n",
              "    <tr>\n",
              "      <th>7</th>\n",
              "      <td>0025577043f5090cd603c6aea60f26e236195594</td>\n",
              "      <td>test</td>\n",
              "      <td>Who gets arrested?</td>\n",
              "      <td>Mark and Nora.</td>\n",
              "      <td>Mark and Nora.</td>\n",
              "      <td>Who gets arrested ?</td>\n",
              "      <td>Mark and Nora .</td>\n",
              "      <td>Mark and Nora .</td>\n",
              "    </tr>\n",
              "    <tr>\n",
              "      <th>8</th>\n",
              "      <td>0025577043f5090cd603c6aea60f26e236195594</td>\n",
              "      <td>test</td>\n",
              "      <td>What does the radio show cause?</td>\n",
              "      <td>It causes trouble.</td>\n",
              "      <td>It causes much trouble in the community.</td>\n",
              "      <td>What does the radio show cause ?</td>\n",
              "      <td>It causes trouble .</td>\n",
              "      <td>It causes much trouble in the community .</td>\n",
              "    </tr>\n",
              "    <tr>\n",
              "      <th>9</th>\n",
              "      <td>0025577043f5090cd603c6aea60f26e236195594</td>\n",
              "      <td>test</td>\n",
              "      <td>Where does Mark Broadcast his station from?</td>\n",
              "      <td>Parent's Basement</td>\n",
              "      <td>At the basement of his home</td>\n",
              "      <td>Where does Mark Broadcast his station from ?</td>\n",
              "      <td>Parent s Basement</td>\n",
              "      <td>At the basement of his home</td>\n",
              "    </tr>\n",
              "  </tbody>\n",
              "</table>\n",
              "</div>"
            ],
            "text/plain": [
              "                                document_id  ...                                  answer2_tokenized\n",
              "0  0025577043f5090cd603c6aea60f26e236195594  ...  A loner and outsider student with a radio stat...\n",
              "1  0025577043f5090cd603c6aea60f26e236195594  ...                                  Phoenix , Arizona\n",
              "2  0025577043f5090cd603c6aea60f26e236195594  ...  Because he has a thing to say about what is ha...\n",
              "3  0025577043f5090cd603c6aea60f26e236195594  ...                                          Malcolm .\n",
              "4  0025577043f5090cd603c6aea60f26e236195594  ...                                   Her award medals\n",
              "5  0025577043f5090cd603c6aea60f26e236195594  ...                                     Dismantle it .\n",
              "6  0025577043f5090cd603c6aea60f26e236195594  ...  That they should make their own future because...\n",
              "7  0025577043f5090cd603c6aea60f26e236195594  ...                                    Mark and Nora .\n",
              "8  0025577043f5090cd603c6aea60f26e236195594  ...          It causes much trouble in the community .\n",
              "9  0025577043f5090cd603c6aea60f26e236195594  ...                        At the basement of his home\n",
              "\n",
              "[10 rows x 8 columns]"
            ]
          },
          "metadata": {
            "tags": []
          },
          "execution_count": 4
        }
      ]
    },
    {
      "cell_type": "code",
      "metadata": {
        "colab": {
          "base_uri": "https://localhost:8080/"
        },
        "id": "gECYUkJKh0Dw",
        "outputId": "f6edc13b-512b-49f0-8bd3-e3d81458713c"
      },
      "source": [
        "df_qaps['document_id'] == '0025577043f5090cd603c6aea60f26e236195594'"
      ],
      "execution_count": 5,
      "outputs": [
        {
          "output_type": "execute_result",
          "data": {
            "text/plain": [
              "0         True\n",
              "1         True\n",
              "2         True\n",
              "3         True\n",
              "4         True\n",
              "         ...  \n",
              "46760    False\n",
              "46761    False\n",
              "46762    False\n",
              "46763    False\n",
              "46764    False\n",
              "Name: document_id, Length: 46765, dtype: bool"
            ]
          },
          "metadata": {
            "tags": []
          },
          "execution_count": 5
        }
      ]
    },
    {
      "cell_type": "markdown",
      "metadata": {
        "id": "i8GPpPHwePWn"
      },
      "source": [
        "### Download and load spacy models\r\n",
        "\r\n",
        "This is going to be used for tokenization."
      ]
    },
    {
      "cell_type": "code",
      "metadata": {
        "colab": {
          "base_uri": "https://localhost:8080/"
        },
        "id": "8AIlSGNreXQc",
        "outputId": "26a908d8-22d1-4eb9-db93-a889a02e1d6f"
      },
      "source": [
        "# Download and load spacy models for EN language. To be used for tokenization.\r\n",
        "%%bash\r\n",
        "python -m spacy download en"
      ],
      "execution_count": 6,
      "outputs": [
        {
          "output_type": "stream",
          "text": [
            "Requirement already satisfied: en_core_web_sm==2.2.5 from https://github.com/explosion/spacy-models/releases/download/en_core_web_sm-2.2.5/en_core_web_sm-2.2.5.tar.gz#egg=en_core_web_sm==2.2.5 in /usr/local/lib/python3.6/dist-packages (2.2.5)\n",
            "Requirement already satisfied: spacy>=2.2.2 in /usr/local/lib/python3.6/dist-packages (from en_core_web_sm==2.2.5) (2.2.4)\n",
            "Requirement already satisfied: requests<3.0.0,>=2.13.0 in /usr/local/lib/python3.6/dist-packages (from spacy>=2.2.2->en_core_web_sm==2.2.5) (2.23.0)\n",
            "Requirement already satisfied: blis<0.5.0,>=0.4.0 in /usr/local/lib/python3.6/dist-packages (from spacy>=2.2.2->en_core_web_sm==2.2.5) (0.4.1)\n",
            "Requirement already satisfied: preshed<3.1.0,>=3.0.2 in /usr/local/lib/python3.6/dist-packages (from spacy>=2.2.2->en_core_web_sm==2.2.5) (3.0.5)\n",
            "Requirement already satisfied: numpy>=1.15.0 in /usr/local/lib/python3.6/dist-packages (from spacy>=2.2.2->en_core_web_sm==2.2.5) (1.19.4)\n",
            "Requirement already satisfied: plac<1.2.0,>=0.9.6 in /usr/local/lib/python3.6/dist-packages (from spacy>=2.2.2->en_core_web_sm==2.2.5) (1.1.3)\n",
            "Requirement already satisfied: setuptools in /usr/local/lib/python3.6/dist-packages (from spacy>=2.2.2->en_core_web_sm==2.2.5) (51.0.0)\n",
            "Requirement already satisfied: catalogue<1.1.0,>=0.0.7 in /usr/local/lib/python3.6/dist-packages (from spacy>=2.2.2->en_core_web_sm==2.2.5) (1.0.0)\n",
            "Requirement already satisfied: tqdm<5.0.0,>=4.38.0 in /usr/local/lib/python3.6/dist-packages (from spacy>=2.2.2->en_core_web_sm==2.2.5) (4.41.1)\n",
            "Requirement already satisfied: wasabi<1.1.0,>=0.4.0 in /usr/local/lib/python3.6/dist-packages (from spacy>=2.2.2->en_core_web_sm==2.2.5) (0.8.0)\n",
            "Requirement already satisfied: thinc==7.4.0 in /usr/local/lib/python3.6/dist-packages (from spacy>=2.2.2->en_core_web_sm==2.2.5) (7.4.0)\n",
            "Requirement already satisfied: cymem<2.1.0,>=2.0.2 in /usr/local/lib/python3.6/dist-packages (from spacy>=2.2.2->en_core_web_sm==2.2.5) (2.0.5)\n",
            "Requirement already satisfied: srsly<1.1.0,>=1.0.2 in /usr/local/lib/python3.6/dist-packages (from spacy>=2.2.2->en_core_web_sm==2.2.5) (1.0.5)\n",
            "Requirement already satisfied: murmurhash<1.1.0,>=0.28.0 in /usr/local/lib/python3.6/dist-packages (from spacy>=2.2.2->en_core_web_sm==2.2.5) (1.0.5)\n",
            "Requirement already satisfied: idna<3,>=2.5 in /usr/local/lib/python3.6/dist-packages (from requests<3.0.0,>=2.13.0->spacy>=2.2.2->en_core_web_sm==2.2.5) (2.10)\n",
            "Requirement already satisfied: certifi>=2017.4.17 in /usr/local/lib/python3.6/dist-packages (from requests<3.0.0,>=2.13.0->spacy>=2.2.2->en_core_web_sm==2.2.5) (2020.12.5)\n",
            "Requirement already satisfied: urllib3!=1.25.0,!=1.25.1,<1.26,>=1.21.1 in /usr/local/lib/python3.6/dist-packages (from requests<3.0.0,>=2.13.0->spacy>=2.2.2->en_core_web_sm==2.2.5) (1.24.3)\n",
            "Requirement already satisfied: chardet<4,>=3.0.2 in /usr/local/lib/python3.6/dist-packages (from requests<3.0.0,>=2.13.0->spacy>=2.2.2->en_core_web_sm==2.2.5) (3.0.4)\n",
            "Requirement already satisfied: importlib-metadata>=0.20; python_version < \"3.8\" in /usr/local/lib/python3.6/dist-packages (from catalogue<1.1.0,>=0.0.7->spacy>=2.2.2->en_core_web_sm==2.2.5) (3.3.0)\n",
            "Requirement already satisfied: typing-extensions>=3.6.4; python_version < \"3.8\" in /usr/local/lib/python3.6/dist-packages (from importlib-metadata>=0.20; python_version < \"3.8\"->catalogue<1.1.0,>=0.0.7->spacy>=2.2.2->en_core_web_sm==2.2.5) (3.7.4.3)\n",
            "Requirement already satisfied: zipp>=0.5 in /usr/local/lib/python3.6/dist-packages (from importlib-metadata>=0.20; python_version < \"3.8\"->catalogue<1.1.0,>=0.0.7->spacy>=2.2.2->en_core_web_sm==2.2.5) (3.4.0)\n",
            "\u001b[38;5;2m✔ Download and installation successful\u001b[0m\n",
            "You can now load the model via spacy.load('en_core_web_sm')\n",
            "\u001b[38;5;2m✔ Linking successful\u001b[0m\n",
            "/usr/local/lib/python3.6/dist-packages/en_core_web_sm -->\n",
            "/usr/local/lib/python3.6/dist-packages/spacy/data/en\n",
            "You can now load the model via spacy.load('en')\n"
          ],
          "name": "stdout"
        }
      ]
    },
    {
      "cell_type": "code",
      "metadata": {
        "id": "PXnflfiieoiY"
      },
      "source": [
        "\r\n",
        "spacy_en = spacy.load('en')\r\n",
        "\r\n",
        "#spacy_de = spacy.load('de')\r\n",
        "\r\n",
        "def tokenize_en(text):\r\n",
        "    \"\"\"\r\n",
        "    Tokenizes English text from a string into a list of strings\r\n",
        "    \"\"\"\r\n",
        "    return [tok.text for tok in spacy_en.tokenizer(text)]"
      ],
      "execution_count": 7,
      "outputs": []
    },
    {
      "cell_type": "code",
      "metadata": {
        "id": "Bex-coINu2mv"
      },
      "source": [
        ""
      ],
      "execution_count": null,
      "outputs": []
    },
    {
      "cell_type": "markdown",
      "metadata": {
        "id": "9uzRTnk2uyiX"
      },
      "source": [
        "Define the train and the test data set now"
      ]
    },
    {
      "cell_type": "code",
      "metadata": {
        "colab": {
          "base_uri": "https://localhost:8080/"
        },
        "id": "h6MKd9LhbhTN",
        "outputId": "cff6cec6-b31d-455d-c44b-407fe5f1f4b4"
      },
      "source": [
        "df_train_qaps = df_qaps[df_qaps['set'] == 'train'][['question', 'answer1']].reset_index(drop=True)\r\n",
        "df_test_qaps = df_qaps[df_qaps['set'] == 'test'][['question', 'answer1']].reset_index(drop=True)\r\n",
        "df_valid_qaps = df_qaps[df_qaps['set'] == 'valid'][['question', 'answer1']].reset_index(drop=True)\r\n",
        "print(\"Train set:\",df_train_qaps.shape, \"Test set:\",df_test_qaps.shape, \"Valid set:\",df_valid_qaps.shape)"
      ],
      "execution_count": 8,
      "outputs": [
        {
          "output_type": "stream",
          "text": [
            "Train set: (32747, 2) Test set: (10557, 2) Valid set: (3461, 2)\n"
          ],
          "name": "stdout"
        }
      ]
    },
    {
      "cell_type": "code",
      "metadata": {
        "colab": {
          "base_uri": "https://localhost:8080/"
        },
        "id": "qacz82jOtRaA",
        "outputId": "d1136052-a0af-4ba2-e266-ebeb63dde628"
      },
      "source": [
        " print(vars(df_train_qaps[0:0]))"
      ],
      "execution_count": 9,
      "outputs": [
        {
          "output_type": "stream",
          "text": [
            "{'_is_copy': <weakref at 0x7fab2e283138; to 'DataFrame' at 0x7fab2f09cac8>, '_mgr': BlockManager\n",
            "Items: Index(['question', 'answer1'], dtype='object')\n",
            "Axis 1: RangeIndex(start=0, stop=0, step=1)\n",
            "ObjectBlock: slice(0, 2, 1), 2 x 0, dtype: object, '_item_cache': {}, '_attrs': {}}\n"
          ],
          "name": "stdout"
        }
      ]
    },
    {
      "cell_type": "code",
      "metadata": {
        "colab": {
          "base_uri": "https://localhost:8080/",
          "height": 166
        },
        "id": "vNUSG5KZfoWe",
        "outputId": "81559298-fc4f-4032-b2a9-741e29af7876"
      },
      "source": [
        "df_qaps.groupby('set').agg('count')"
      ],
      "execution_count": 10,
      "outputs": [
        {
          "output_type": "execute_result",
          "data": {
            "text/html": [
              "<div>\n",
              "<style scoped>\n",
              "    .dataframe tbody tr th:only-of-type {\n",
              "        vertical-align: middle;\n",
              "    }\n",
              "\n",
              "    .dataframe tbody tr th {\n",
              "        vertical-align: top;\n",
              "    }\n",
              "\n",
              "    .dataframe thead th {\n",
              "        text-align: right;\n",
              "    }\n",
              "</style>\n",
              "<table border=\"1\" class=\"dataframe\">\n",
              "  <thead>\n",
              "    <tr style=\"text-align: right;\">\n",
              "      <th></th>\n",
              "      <th>document_id</th>\n",
              "      <th>question</th>\n",
              "      <th>answer1</th>\n",
              "      <th>answer2</th>\n",
              "      <th>question_tokenized</th>\n",
              "      <th>answer1_tokenized</th>\n",
              "      <th>answer2_tokenized</th>\n",
              "    </tr>\n",
              "    <tr>\n",
              "      <th>set</th>\n",
              "      <th></th>\n",
              "      <th></th>\n",
              "      <th></th>\n",
              "      <th></th>\n",
              "      <th></th>\n",
              "      <th></th>\n",
              "      <th></th>\n",
              "    </tr>\n",
              "  </thead>\n",
              "  <tbody>\n",
              "    <tr>\n",
              "      <th>test</th>\n",
              "      <td>10557</td>\n",
              "      <td>10557</td>\n",
              "      <td>10557</td>\n",
              "      <td>10557</td>\n",
              "      <td>10557</td>\n",
              "      <td>10557</td>\n",
              "      <td>10557</td>\n",
              "    </tr>\n",
              "    <tr>\n",
              "      <th>train</th>\n",
              "      <td>32747</td>\n",
              "      <td>32747</td>\n",
              "      <td>32747</td>\n",
              "      <td>32747</td>\n",
              "      <td>32747</td>\n",
              "      <td>32747</td>\n",
              "      <td>32747</td>\n",
              "    </tr>\n",
              "    <tr>\n",
              "      <th>valid</th>\n",
              "      <td>3461</td>\n",
              "      <td>3461</td>\n",
              "      <td>3461</td>\n",
              "      <td>3461</td>\n",
              "      <td>3461</td>\n",
              "      <td>3461</td>\n",
              "      <td>3461</td>\n",
              "    </tr>\n",
              "  </tbody>\n",
              "</table>\n",
              "</div>"
            ],
            "text/plain": [
              "       document_id  question  ...  answer1_tokenized  answer2_tokenized\n",
              "set                           ...                                      \n",
              "test         10557     10557  ...              10557              10557\n",
              "train        32747     32747  ...              32747              32747\n",
              "valid         3461      3461  ...               3461               3461\n",
              "\n",
              "[3 rows x 7 columns]"
            ]
          },
          "metadata": {
            "tags": []
          },
          "execution_count": 10
        }
      ]
    },
    {
      "cell_type": "code",
      "metadata": {
        "colab": {
          "base_uri": "https://localhost:8080/",
          "height": 343
        },
        "id": "72oY3gknW5FC",
        "outputId": "e0d8fd3d-7cca-4095-aa6b-adea73ff72d9"
      },
      "source": [
        "df_train_qaps[:10]"
      ],
      "execution_count": 11,
      "outputs": [
        {
          "output_type": "execute_result",
          "data": {
            "text/html": [
              "<div>\n",
              "<style scoped>\n",
              "    .dataframe tbody tr th:only-of-type {\n",
              "        vertical-align: middle;\n",
              "    }\n",
              "\n",
              "    .dataframe tbody tr th {\n",
              "        vertical-align: top;\n",
              "    }\n",
              "\n",
              "    .dataframe thead th {\n",
              "        text-align: right;\n",
              "    }\n",
              "</style>\n",
              "<table border=\"1\" class=\"dataframe\">\n",
              "  <thead>\n",
              "    <tr style=\"text-align: right;\">\n",
              "      <th></th>\n",
              "      <th>question</th>\n",
              "      <th>answer1</th>\n",
              "    </tr>\n",
              "  </thead>\n",
              "  <tbody>\n",
              "    <tr>\n",
              "      <th>0</th>\n",
              "      <td>Who is Miss Delmer?</td>\n",
              "      <td>the elderly spinster aunt of the Earl de Verse...</td>\n",
              "    </tr>\n",
              "    <tr>\n",
              "      <th>1</th>\n",
              "      <td>Who does Arabella Mason wed?</td>\n",
              "      <td>Ben Keene, Delmar's valet</td>\n",
              "    </tr>\n",
              "    <tr>\n",
              "      <th>2</th>\n",
              "      <td>How does Percival Keene get his name?</td>\n",
              "      <td>Percival is Captain Delmar's first name, and K...</td>\n",
              "    </tr>\n",
              "    <tr>\n",
              "      <th>3</th>\n",
              "      <td>Who is the bully that steals Percival's lunch?</td>\n",
              "      <td>his teacher, Mr. O'Gallagher</td>\n",
              "    </tr>\n",
              "    <tr>\n",
              "      <th>4</th>\n",
              "      <td>How does Percival get even with O'Gallagher af...</td>\n",
              "      <td>He sets them on fire with the teacher sitting ...</td>\n",
              "    </tr>\n",
              "    <tr>\n",
              "      <th>5</th>\n",
              "      <td>Who does Percival convince the Pirates to spare?</td>\n",
              "      <td>a rich Dutch merchant and his daughter Minnie</td>\n",
              "    </tr>\n",
              "    <tr>\n",
              "      <th>6</th>\n",
              "      <td>How does Percival save Captain Delmar's life?</td>\n",
              "      <td>When the captain is ill, Percival takes his pl...</td>\n",
              "    </tr>\n",
              "    <tr>\n",
              "      <th>7</th>\n",
              "      <td>What shocking news does Percival's mother admi...</td>\n",
              "      <td>Captain Delmar is Percival's father</td>\n",
              "    </tr>\n",
              "    <tr>\n",
              "      <th>8</th>\n",
              "      <td>What happens when Percival is captured by the ...</td>\n",
              "      <td>he is sentenced to execution</td>\n",
              "    </tr>\n",
              "    <tr>\n",
              "      <th>9</th>\n",
              "      <td>What news does Percival receive at the end of ...</td>\n",
              "      <td>He has been granted the right to use his fathe...</td>\n",
              "    </tr>\n",
              "  </tbody>\n",
              "</table>\n",
              "</div>"
            ],
            "text/plain": [
              "                                            question                                            answer1\n",
              "0                                Who is Miss Delmer?  the elderly spinster aunt of the Earl de Verse...\n",
              "1                       Who does Arabella Mason wed?                          Ben Keene, Delmar's valet\n",
              "2              How does Percival Keene get his name?  Percival is Captain Delmar's first name, and K...\n",
              "3     Who is the bully that steals Percival's lunch?                       his teacher, Mr. O'Gallagher\n",
              "4  How does Percival get even with O'Gallagher af...  He sets them on fire with the teacher sitting ...\n",
              "5   Who does Percival convince the Pirates to spare?      a rich Dutch merchant and his daughter Minnie\n",
              "6      How does Percival save Captain Delmar's life?  When the captain is ill, Percival takes his pl...\n",
              "7  What shocking news does Percival's mother admi...                Captain Delmar is Percival's father\n",
              "8  What happens when Percival is captured by the ...                       he is sentenced to execution\n",
              "9  What news does Percival receive at the end of ...  He has been granted the right to use his fathe..."
            ]
          },
          "metadata": {
            "tags": []
          },
          "execution_count": 11
        }
      ]
    },
    {
      "cell_type": "code",
      "metadata": {
        "colab": {
          "base_uri": "https://localhost:8080/",
          "height": 343
        },
        "id": "HDCEIWiDtHU5",
        "outputId": "0db9d9c5-edeb-461a-933e-66eb164400c5"
      },
      "source": [
        "df_test_qaps[:10]"
      ],
      "execution_count": 12,
      "outputs": [
        {
          "output_type": "execute_result",
          "data": {
            "text/html": [
              "<div>\n",
              "<style scoped>\n",
              "    .dataframe tbody tr th:only-of-type {\n",
              "        vertical-align: middle;\n",
              "    }\n",
              "\n",
              "    .dataframe tbody tr th {\n",
              "        vertical-align: top;\n",
              "    }\n",
              "\n",
              "    .dataframe thead th {\n",
              "        text-align: right;\n",
              "    }\n",
              "</style>\n",
              "<table border=\"1\" class=\"dataframe\">\n",
              "  <thead>\n",
              "    <tr style=\"text-align: right;\">\n",
              "      <th></th>\n",
              "      <th>question</th>\n",
              "      <th>answer1</th>\n",
              "    </tr>\n",
              "  </thead>\n",
              "  <tbody>\n",
              "    <tr>\n",
              "      <th>0</th>\n",
              "      <td>Who is Mark Hunter?</td>\n",
              "      <td>He is a high school student in Phoenix.</td>\n",
              "    </tr>\n",
              "    <tr>\n",
              "      <th>1</th>\n",
              "      <td>Where does this radio station take place?</td>\n",
              "      <td>It takes place in Mark's parents basement.</td>\n",
              "    </tr>\n",
              "    <tr>\n",
              "      <th>2</th>\n",
              "      <td>Why do more students tune into Mark's show?</td>\n",
              "      <td>Mark talks about what goes on at school and in...</td>\n",
              "    </tr>\n",
              "    <tr>\n",
              "      <th>3</th>\n",
              "      <td>Who commits suicide?</td>\n",
              "      <td>Malcolm.</td>\n",
              "    </tr>\n",
              "    <tr>\n",
              "      <th>4</th>\n",
              "      <td>What does Paige jam into her microwave?</td>\n",
              "      <td>She jams her medals and accolades.</td>\n",
              "    </tr>\n",
              "    <tr>\n",
              "      <th>5</th>\n",
              "      <td>What does Mark do with his radio station?</td>\n",
              "      <td>He dismantles it and attaches it to his mother...</td>\n",
              "    </tr>\n",
              "    <tr>\n",
              "      <th>6</th>\n",
              "      <td>What does Mark tell the protesting students?</td>\n",
              "      <td>He tells them to make their own future.</td>\n",
              "    </tr>\n",
              "    <tr>\n",
              "      <th>7</th>\n",
              "      <td>Who gets arrested?</td>\n",
              "      <td>Mark and Nora.</td>\n",
              "    </tr>\n",
              "    <tr>\n",
              "      <th>8</th>\n",
              "      <td>What does the radio show cause?</td>\n",
              "      <td>It causes trouble.</td>\n",
              "    </tr>\n",
              "    <tr>\n",
              "      <th>9</th>\n",
              "      <td>Where does Mark Broadcast his station from?</td>\n",
              "      <td>Parent's Basement</td>\n",
              "    </tr>\n",
              "  </tbody>\n",
              "</table>\n",
              "</div>"
            ],
            "text/plain": [
              "                                       question                                            answer1\n",
              "0                           Who is Mark Hunter?            He is a high school student in Phoenix.\n",
              "1     Where does this radio station take place?        It takes place in Mark's parents basement. \n",
              "2   Why do more students tune into Mark's show?  Mark talks about what goes on at school and in...\n",
              "3                          Who commits suicide?                                           Malcolm.\n",
              "4       What does Paige jam into her microwave?                She jams her medals and accolades. \n",
              "5     What does Mark do with his radio station?  He dismantles it and attaches it to his mother...\n",
              "6  What does Mark tell the protesting students?            He tells them to make their own future.\n",
              "7                            Who gets arrested?                                     Mark and Nora.\n",
              "8               What does the radio show cause?                                It causes trouble. \n",
              "9   Where does Mark Broadcast his station from?                                  Parent's Basement"
            ]
          },
          "metadata": {
            "tags": []
          },
          "execution_count": 12
        }
      ]
    },
    {
      "cell_type": "code",
      "metadata": {
        "id": "OPKoe6-dejah"
      },
      "source": [
        "#general junk commands\n",
        "\n",
        "\n",
        " #print(vars(df_train_qaps[0:0]))"
      ],
      "execution_count": 13,
      "outputs": []
    },
    {
      "cell_type": "markdown",
      "metadata": {
        "id": "0JFOk6SOe-xP"
      },
      "source": [
        "### define the predictor and predicted\r\n",
        "\r\n",
        "QUESTIONS - Field containing the questions predictors.\r\n",
        "ANSWERS-  Field for prediction."
      ]
    },
    {
      "cell_type": "code",
      "metadata": {
        "id": "W1iGfaEHe_mg"
      },
      "source": [
        "QUESTIONS = Field(tokenize=tokenize_en, init_token='<sos>', eos_token='<eos>', lower=True)\r\n",
        "ANSWERS = Field(tokenize = tokenize_en, init_token='<sos>', eos_token='<eos>', lower=True)"
      ],
      "execution_count": 14,
      "outputs": []
    },
    {
      "cell_type": "code",
      "metadata": {
        "id": "jwVRkyxOgXd0"
      },
      "source": [
        "#print(type(QUESTIONS))\r\n",
        "#QUESTIONS.__dict__"
      ],
      "execution_count": null,
      "outputs": []
    },
    {
      "cell_type": "code",
      "metadata": {
        "id": "kA4ZMu9hgdG3"
      },
      "source": [
        "params = [('question', QUESTIONS), ('answer1', ANSWERS)]"
      ],
      "execution_count": 15,
      "outputs": []
    },
    {
      "cell_type": "code",
      "metadata": {
        "id": "vzz7FAeGhmcC"
      },
      "source": [
        "example_train = [data.Example.fromlist([df_train_qaps.question[i],df_train_qaps.answer1[i]], params) for i in range(df_train_qaps.shape[0])] \r\n",
        "example_valid = [data.Example.fromlist([df_valid_qaps.question[i],df_valid_qaps.answer1[i]], params) for i in range(df_valid_qaps.shape[0])] \r\n",
        "example_test = [data.Example.fromlist([df_test_qaps.question[i],df_test_qaps.answer1[i]], params) for i in range(df_test_qaps.shape[0])] "
      ],
      "execution_count": 16,
      "outputs": []
    },
    {
      "cell_type": "code",
      "metadata": {
        "id": "Va_peTi2lrDi"
      },
      "source": [
        "# Creating dataset\r\n",
        "train_data = data.Dataset(example_train, params)\r\n",
        "valid_data = data.Dataset(example_valid, params)\r\n",
        "test_data = data.Dataset(example_test, params)"
      ],
      "execution_count": 17,
      "outputs": []
    },
    {
      "cell_type": "code",
      "metadata": {
        "colab": {
          "base_uri": "https://localhost:8080/"
        },
        "id": "wux94dvTl4km",
        "outputId": "784ba660-3afd-4ce3-8759-a9fdbd0103ed"
      },
      "source": [
        "print(vars(train_data.examples[10]))"
      ],
      "execution_count": 18,
      "outputs": [
        {
          "output_type": "stream",
          "text": [
            "{'question': ['what', 'is', 'the', 'name', 'of', 'the', 'de', 'versely', 'family', 'house', '?'], 'answer1': ['madeline', 'hall']}\n"
          ],
          "name": "stdout"
        }
      ]
    },
    {
      "cell_type": "markdown",
      "metadata": {
        "id": "LBzgXc6Cv5wB"
      },
      "source": [
        "Get counts of train and test size and reconcile with total\n",
        "32747+3462+10557"
      ]
    },
    {
      "cell_type": "code",
      "metadata": {
        "colab": {
          "base_uri": "https://localhost:8080/"
        },
        "id": "WZtvin8cv5dJ",
        "outputId": "48afc873-efc6-4122-db44-58fb8a8401e6"
      },
      "source": [
        "32747+3462+10557\n",
        "#46765 totl as per beginnign"
      ],
      "execution_count": 19,
      "outputs": [
        {
          "output_type": "execute_result",
          "data": {
            "text/plain": [
              "46766"
            ]
          },
          "metadata": {
            "tags": []
          },
          "execution_count": 19
        }
      ]
    },
    {
      "cell_type": "code",
      "metadata": {
        "colab": {
          "base_uri": "https://localhost:8080/"
        },
        "id": "E9eQXmBemk_1",
        "outputId": "ddfbeccb-9b4f-4501-b08d-2c0fe5cb6387"
      },
      "source": [
        "print(f\"Number of training examples: {len(train_data.examples)}\")\r\n",
        "print(f\"Number of validation examples: {len(valid_data.examples)}\")\r\n",
        "print(f\"Number of testing examples: {len(test_data.examples)}\")"
      ],
      "execution_count": 20,
      "outputs": [
        {
          "output_type": "stream",
          "text": [
            "Number of training examples: 32747\n",
            "Number of validation examples: 3461\n",
            "Number of testing examples: 10557\n"
          ],
          "name": "stdout"
        }
      ]
    },
    {
      "cell_type": "markdown",
      "metadata": {
        "id": "rFaIk1Wumrl9"
      },
      "source": [
        "### Build SRC and TRG\r\n",
        "Then create our vocabulary, converting all tokens appearing less than twice into <unk> tokens."
      ]
    },
    {
      "cell_type": "code",
      "metadata": {
        "id": "yHl5jhpBmtYF"
      },
      "source": [
        "QUESTIONS.build_vocab(train_data, min_freq = 2)\r\n",
        "ANSWERS.build_vocab(train_data, min_freq = 2)"
      ],
      "execution_count": 21,
      "outputs": []
    },
    {
      "cell_type": "code",
      "metadata": {
        "colab": {
          "base_uri": "https://localhost:8080/"
        },
        "id": "NyxQ53lhnArd",
        "outputId": "7433c13a-3581-4ec8-e697-1c780113f054"
      },
      "source": [
        "print(\"Size of Source vocab: \",len(QUESTIONS.vocab))\r\n",
        "print(\"Size of Target vocab: \",len(ANSWERS.vocab))"
      ],
      "execution_count": 22,
      "outputs": [
        {
          "output_type": "stream",
          "text": [
            "Size of Source vocab:  10574\n",
            "Size of Target vocab:  10695\n"
          ],
          "name": "stdout"
        }
      ]
    },
    {
      "cell_type": "code",
      "metadata": {
        "colab": {
          "base_uri": "https://localhost:8080/"
        },
        "id": "D_U_Of_VnEiG",
        "outputId": "9993d783-28e7-454b-ee6a-054e60f28a95"
      },
      "source": [
        "vars(QUESTIONS)\n",
        "vars(ANSWERS)"
      ],
      "execution_count": 23,
      "outputs": [
        {
          "output_type": "execute_result",
          "data": {
            "text/plain": [
              "{'batch_first': False,\n",
              " 'dtype': torch.int64,\n",
              " 'eos_token': '<eos>',\n",
              " 'fix_length': None,\n",
              " 'include_lengths': False,\n",
              " 'init_token': '<sos>',\n",
              " 'is_target': False,\n",
              " 'lower': True,\n",
              " 'pad_first': False,\n",
              " 'pad_token': '<pad>',\n",
              " 'postprocessing': None,\n",
              " 'preprocessing': None,\n",
              " 'sequential': True,\n",
              " 'stop_words': None,\n",
              " 'tokenize': <function __main__.tokenize_en>,\n",
              " 'truncate_first': False,\n",
              " 'unk_token': '<unk>',\n",
              " 'use_vocab': True,\n",
              " 'vocab': <torchtext.vocab.Vocab at 0x7fab29f3f978>}"
            ]
          },
          "metadata": {
            "tags": []
          },
          "execution_count": 23
        }
      ]
    },
    {
      "cell_type": "code",
      "metadata": {
        "colab": {
          "base_uri": "https://localhost:8080/"
        },
        "id": "OmyUdA52nTuG",
        "outputId": "33b79caf-23a9-47bd-90d4-997bd9b82104"
      },
      "source": [
        "\r\n",
        "print(QUESTIONS.vocab.__dict__.keys())\r\n",
        "#QUESTIONS.vocab.__dict__"
      ],
      "execution_count": 24,
      "outputs": [
        {
          "output_type": "stream",
          "text": [
            "dict_keys(['freqs', 'itos', 'stoi', 'vectors'])\n"
          ],
          "name": "stdout"
        }
      ]
    },
    {
      "cell_type": "code",
      "metadata": {
        "colab": {
          "base_uri": "https://localhost:8080/"
        },
        "id": "xv76i8HtwWRm",
        "outputId": "9c779c56-4ce5-4d06-a1e1-5e05e1f0cfe0"
      },
      "source": [
        "print(ANSWERS.vocab.__dict__.keys())\n",
        "#ANSWERS.vocab.__dict__"
      ],
      "execution_count": 25,
      "outputs": [
        {
          "output_type": "stream",
          "text": [
            "dict_keys(['freqs', 'itos', 'stoi', 'vectors'])\n"
          ],
          "name": "stdout"
        }
      ]
    },
    {
      "cell_type": "markdown",
      "metadata": {
        "id": "w9zrXarEnfUw"
      },
      "source": [
        "### Finally, define the `device` and create our iterators.\r\n",
        "\r\n"
      ]
    },
    {
      "cell_type": "code",
      "metadata": {
        "id": "qmD5zchpnefG"
      },
      "source": [
        "device = torch.device('cuda' if torch.cuda.is_available() else 'cpu')"
      ],
      "execution_count": 26,
      "outputs": []
    },
    {
      "cell_type": "code",
      "metadata": {
        "id": "czYepwEynm3N"
      },
      "source": [
        "\r\n",
        "BATCH_SIZE = 128\r\n",
        "\r\n",
        "train_iterator, valid_iterator, test_iterator = BucketIterator.splits(\r\n",
        "    (train_data, valid_data, test_data), \r\n",
        "    sort=False,\r\n",
        "    batch_size = BATCH_SIZE, \r\n",
        "    device = device)"
      ],
      "execution_count": 27,
      "outputs": []
    },
    {
      "cell_type": "code",
      "metadata": {
        "id": "4hUhvLotns_O"
      },
      "source": [
        "batch = next(iter(train_iterator))"
      ],
      "execution_count": 28,
      "outputs": []
    },
    {
      "cell_type": "markdown",
      "metadata": {
        "id": "j74jd5OiotMt"
      },
      "source": [
        "### Building the Seq2Seq Model\r\n",
        "<a name=\"model\"></a>\r\n",
        "Using single layered GRU network.\r\n",
        "\r\n",
        "\r\n",
        "### Encoder\r\n",
        "\r\n",
        "The encoder is similar to the previous one, with the multi-layer LSTM swapped for a single-layer GRU. We also don't pass the dropout as an argument to the GRU as that dropout is used between each layer of a multi-layered RNN. As we only have a single layer, PyTorch will display a warning if we try and use pass a dropout value to it.\r\n",
        "\r\n",
        "Another thing to note about the GRU is that it only requires and returns a hidden state, there is no cell state like in the LSTM.\r\n",
        "\r\n",
        "$$\\begin{align*}\r\n",
        "h_t &= \\text{GRU}(e(x_t), h_{t-1})\\\\\r\n",
        "(h_t, c_t) &= \\text{LSTM}(e(x_t), h_{t-1}, c_{t-1})\\\\\r\n",
        "h_t &= \\text{RNN}(e(x_t), h_{t-1})\r\n",
        "\\end{align*}$$\r\n",
        "\r\n",
        "From the equations above, it looks like the RNN and the GRU are identical. Inside the GRU, however, is a number of *gating mechanisms* that control the information flow in to and out of the hidden state (similar to an LSTM). Again, for more info, check out [this](https://colah.github.io/posts/2015-08-Understanding-LSTMs/) excellent post. \r\n",
        "\r\n",
        "The rest of the encoder should be very familar from the last session, it takes in a sequence, $X = \\{x_1, x_2, ... , x_T\\}$, passes it through the embedding layer, recurrently calculates hidden states, $H = \\{h_1, h_2, ..., h_T\\}$, and returns a context vector (the final hidden state), $z=h_T$.\r\n",
        "\r\n",
        "$$h_t = \\text{EncoderGRU}(e(x_t), h_{t-1})$$\r\n",
        "\r\n",
        "This is identical to the encoder of the general seq2seq model, with all the \"magic\" happening inside the GRU (green).\r\n",
        "\r\n",
        "![](https://github.com/bentrevett/pytorch-seq2seq/blob/master/assets/seq2seq5.png?raw=1)"
      ]
    },
    {
      "cell_type": "code",
      "metadata": {
        "id": "1PN5U_RdowVd"
      },
      "source": [
        "class Encoder(nn.Module):\r\n",
        "    def __init__(self, input_dim, emb_dim, hid_dim, dropout):\r\n",
        "        super().__init__()\r\n",
        "\r\n",
        "        self.hid_dim = hid_dim\r\n",
        "        \r\n",
        "        self.embedding = nn.Embedding(input_dim, emb_dim) \r\n",
        "        \r\n",
        "        #no dropout as only one layer!\r\n",
        "        self.rnn = nn.GRU(emb_dim, hid_dim)\r\n",
        "        \r\n",
        "        self.dropout = nn.Dropout(dropout)\r\n",
        "        \r\n",
        "    def forward(self, src):\r\n",
        "        \r\n",
        "        #src = [src len, batch size]        \r\n",
        "        embedded = self.dropout(self.embedding(src))\r\n",
        "        \r\n",
        "        #embedded = [src len, batch size, emb dim]        \r\n",
        "        outputs, hidden = self.rnn(embedded) #no cell state!\r\n",
        "        \r\n",
        "        #outputs = [src len, batch size, hid dim * n directions]\r\n",
        "        #hidden = [n layers * n directions, batch size, hid dim]\r\n",
        "        \r\n",
        "        #outputs are always from the top hidden layer\r\n",
        "        \r\n",
        "        return hidden"
      ],
      "execution_count": 29,
      "outputs": []
    },
    {
      "cell_type": "markdown",
      "metadata": {
        "id": "3W5j6DIlo2ye"
      },
      "source": [
        "#### Decoder\r\n",
        "## Decoder\r\n",
        "\r\n",
        "The decoder is where the implementation differs significantly from the previous model and we alleviate some of the information compression.\r\n",
        "\r\n",
        "Instead of the GRU in the decoder taking just the embedded target token, $d(y_t)$ and the previous hidden state $s_{t-1}$ as inputs, it also takes the context vector $z$. \r\n",
        "\r\n",
        "$$s_t = \\text{DecoderGRU}(d(y_t), s_{t-1}, z)$$\r\n",
        "\r\n",
        "Note how this context vector, $z$, does not have a $t$ subscript, meaning we re-use the same context vector returned by the encoder for every time-step in the decoder. \r\n",
        "\r\n",
        "Before, we predicted the next token, $\\hat{y}_{t+1}$, with the linear layer, $f$, only using the top-layer decoder hidden state at that time-step, $s_t$, as $\\hat{y}_{t+1}=f(s_t^L)$. Now, we also pass the embedding of current token, $d(y_t)$ and the context vector, $z$ to the linear layer.\r\n",
        "\r\n",
        "$$\\hat{y}_{t+1} = f(d(y_t), s_t, z)$$\r\n",
        "\r\n",
        "Thus, our decoder now looks something like this:\r\n",
        "\r\n",
        "![](https://github.com/bentrevett/pytorch-seq2seq/blob/master/assets/seq2seq6.png?raw=1)\r\n",
        "\r\n",
        "Note, the initial hidden state, $s_0$, is still the context vector, $z$, so when generating the first token we are actually inputting two identical context vectors into the GRU.\r\n",
        "\r\n",
        "How do these two changes reduce the information compression? Well, hypothetically the decoder hidden states, $s_t$, no longer need to contain information about the source sequence as it is always available as an input. Thus, it only needs to contain information about what tokens it has generated so far. The addition of $y_t$ to the linear layer also means this layer can directly see what the token is, without having to get this information from the hidden state. \r\n",
        "\r\n",
        "However, this hypothesis is just a hypothesis, it is impossible to determine how the model actually uses the information provided to it (don't listen to anyone that says differently). Nevertheless, it is a solid intuition and the results seem to indicate that this modifications are a good idea!\r\n",
        "\r\n",
        "hypothetically the decoder hidden states,  st , no longer need to contain information about the source sequence as it is always available as an input. Thus, it only needs to contain information about what tokens it has generated so far. The addition of  yt  to the linear layer also means this layer can directly see what the token is, without having to get this information from the hidden state.\r\n",
        "\r\n",
        "\r\n",
        "Within the implementation, we will pass $d(y_t)$ and $z$ to the GRU by concatenating them together, so the input dimensions to the GRU are now `emb_dim + hid_dim` (as context vector will be of size `hid_dim`). The linear layer will take $d(y_t), s_t$ and $z$ also by concatenating them together, hence the input dimensions are now `emb_dim + hid_dim*2`. We also don't pass a value of dropout to the GRU as it only uses a single layer.\r\n",
        "\r\n",
        "`forward` now takes a `context` argument. Inside of `forward`, we concatenate $y_t$ and $z$ as `emb_con` before feeding to the GRU, and we concatenate $d(y_t)$, $s_t$ and $z$ together as `output` before feeding it through the linear layer to receive our predictions, $\\hat{y}_{t+1}$."
      ]
    },
    {
      "cell_type": "code",
      "metadata": {
        "id": "an3NhEico6q9"
      },
      "source": [
        "class Decoder(nn.Module):\r\n",
        "    def __init__(self, output_dim, emb_dim, hid_dim, dropout):\r\n",
        "        super().__init__()\r\n",
        "\r\n",
        "        self.hid_dim = hid_dim\r\n",
        "        self.output_dim = output_dim\r\n",
        "\r\n",
        "        self.embedding = nn.Embedding(output_dim, emb_dim)\r\n",
        "        \r\n",
        "        self.rnn = nn.GRU(emb_dim + hid_dim, hid_dim)\r\n",
        "\r\n",
        "        self.fc_out = nn.Linear(emb_dim + 2 * hid_dim, output_dim)\r\n",
        "\r\n",
        "        self.dropout = nn.Dropout(dropout)\r\n",
        "\r\n",
        "    def forward(self, input, hidden, context):\r\n",
        "        #input = [batch size]\r\n",
        "        #hidden = [n layers * n directions, batch size, hid dim]\r\n",
        "        #context = [n layers * n directions, batch size, hid dim]\r\n",
        "        \r\n",
        "        #n layers and n directions in the decoder will both always be 1, therefore:\r\n",
        "        #hidden = [1, batch size, hid dim]\r\n",
        "        #context = [1, batch size, hid dim]\r\n",
        "        \r\n",
        "        input = input.unsqueeze(0)\r\n",
        "        # input = [1, batch size]\r\n",
        "\r\n",
        "        embedded = self.dropout(self.embedding(input))\r\n",
        "        # embedded = [1, batch size, emb_dim]\r\n",
        "\r\n",
        "        emb_con = torch.cat((embedded, context), dim=2)\r\n",
        "        # emb_con = [1, batch size, emb_dim + hid_dim]\r\n",
        "\r\n",
        "        output, hidden = self.rnn(emb_con, hidden)\r\n",
        "        #output = [seq len, batch size, hid dim * n directions]\r\n",
        "        #hidden = [n layers * n directions, batch size, hid dim]\r\n",
        "        \r\n",
        "        #seq len, n layers and n directions will always be 1 in the decoder, therefore:\r\n",
        "        #output = [1, batch size, hid dim]\r\n",
        "        #hidden = [1, batch size, hid dim]\r\n",
        "\r\n",
        "        output = torch.cat((embedded.squeeze(0), hidden.squeeze(0), context.squeeze(0)), dim=1)\r\n",
        "        # output = [batch size, emb dim + 2 * hid dim]\r\n",
        "\r\n",
        "        prediction = self.fc_out(output)\r\n",
        "        # prediction = [batch_size, output_dim]\r\n",
        "\r\n",
        "        return prediction, hidden "
      ],
      "execution_count": 30,
      "outputs": []
    },
    {
      "cell_type": "markdown",
      "metadata": {
        "id": "8j98FqYlo-FQ"
      },
      "source": [
        "#### Seq2Seq model\r\n",
        "\r\n",
        "Putting the encoder and decoder together, we get:\r\n",
        "\r\n",
        "![](https://github.com/bentrevett/pytorch-seq2seq/blob/master/assets/seq2seq7.png?raw=1)\r\n",
        "\r\n",
        "Again, in this implementation we need to ensure the hidden dimensions in both the encoder and the decoder are the same.\r\n",
        "\r\n",
        "Briefly going over all of the steps:\r\n",
        "- the `outputs` tensor is created to hold all predictions, $\\hat{Y}$\r\n",
        "- the source sequence, $X$, is fed into the encoder to receive a `context` vector\r\n",
        "- the initial decoder hidden state is set to be the `context` vector, $s_0 = z = h_T$\r\n",
        "- we use a batch of `<sos>` tokens as the first `input`, $y_1$\r\n",
        "- we then decode within a loop:\r\n",
        "  - inserting the input token $y_t$, previous hidden state, $s_{t-1}$, and the context vector, $z$, into the decoder\r\n",
        "  - receiving a prediction, $\\hat{y}_{t+1}$, and a new hidden state, $s_t$\r\n",
        "  - we then decide if we are going to teacher force or not, setting the next input as appropriate (either the ground truth next token in the target sequence or the highest predicted next token)\r\n"
      ]
    },
    {
      "cell_type": "code",
      "metadata": {
        "id": "Md2nCvZRo-w1"
      },
      "source": [
        "# build seq2seq model\r\n",
        "class Seq2Seq(nn.Module):\r\n",
        "    def __init__(self, encoder, decoder, device):\r\n",
        "        super().__init__()\r\n",
        "\r\n",
        "        self.encoder = encoder\r\n",
        "        self.decoder = decoder\r\n",
        "        self.device = device\r\n",
        "\r\n",
        "        assert encoder.hid_dim == decoder.hid_dim, \\\r\n",
        "            \"Hidden dimensions of encoder and decoder must be equal!\"\r\n",
        "    \r\n",
        "    def forward(self, src, trg, teacher_forcing_ratio = 0.5):\r\n",
        "        #src = [src len, batch size]\r\n",
        "        #trg = [trg len, batch size]\r\n",
        "        #teacher_forcing_ratio is probability to use teacher forcing\r\n",
        "        #e.g. if teacher_forcing_ratio is 0.75 we use ground-truth inputs 75% of the time\r\n",
        "\r\n",
        "        batch_size = trg.shape[1]\r\n",
        "        trg_len = trg.shape[0]\r\n",
        "        trg_vocab_size = self.decoder.output_dim\r\n",
        "\r\n",
        "        # tensor to store decoder output\r\n",
        "        outputs = torch.zeros(trg_len, batch_size, trg_vocab_size).to(self.device)\r\n",
        "\r\n",
        "        # Last hidden state of the encoder is the context\r\n",
        "        context = self.encoder(src)\r\n",
        "\r\n",
        "        # context is also used as the initial hidden state of the decoder\r\n",
        "        hidden = context\r\n",
        "\r\n",
        "        # fist input to the decoder is <sos> token\r\n",
        "        input = trg[0,:]\r\n",
        "\r\n",
        "        for t in range(1, trg_len):\r\n",
        "            #insert input token embedding, previous hidden state and the context state\r\n",
        "            #receive output tensor (predictions) and new hidden state\r\n",
        "            output, hidden = self.decoder(input, hidden, context)\r\n",
        "\r\n",
        "            #place predictions in a tensor holding predictions for each token\r\n",
        "            outputs[t] = output\r\n",
        "\r\n",
        "            # decide of teacher forcing is going to be used\r\n",
        "            teacher_force = random.random() < teacher_forcing_ratio\r\n",
        "\r\n",
        "            #get the highest predicted token from our predictions\r\n",
        "            top1 = output.argmax(1)\r\n",
        "\r\n",
        "            #if teacher forcing, use actual next token as next input\r\n",
        "            #if not, use predicted token\r\n",
        "            input = trg[t] if teacher_force else top1\r\n",
        "\r\n",
        "        return outputs"
      ],
      "execution_count": 31,
      "outputs": []
    },
    {
      "cell_type": "markdown",
      "metadata": {
        "id": "XVS_ldMZpFe2"
      },
      "source": [
        "### Training the Seq2Seq Model\r\n",
        "The rest of this session is very similar to the previous one. \r\n",
        "\r\n",
        "We initialise our encoder, decoder and seq2seq model (placing it on the GPU if we have one). As before, the embedding dimensions and the amount of dropout used can be different between the encoder and the decoder, but the hidden dimensions must remain the same."
      ]
    },
    {
      "cell_type": "code",
      "metadata": {
        "id": "AyjexYD0pGF9"
      },
      "source": [
        "INPUT_DIM = len(QUESTIONS.vocab)\r\n",
        "OUTPUT_DIM = len(ANSWERS.vocab)\r\n",
        "ENC_EMB_DIM = 256\r\n",
        "DEC_EMB_DIM = 256\r\n",
        "HID_DIM = 512\r\n",
        "ENC_DROPOUT = 0.5\r\n",
        "DEC_DROPOUT = 0.5\r\n",
        "\r\n",
        "enc = Encoder(INPUT_DIM, ENC_EMB_DIM, HID_DIM, ENC_DROPOUT)\r\n",
        "dec = Decoder(OUTPUT_DIM, DEC_EMB_DIM, HID_DIM, DEC_DROPOUT)\r\n",
        "\r\n",
        "device = torch.device('cuda' if torch.cuda.is_available() else 'cpu')\r\n",
        "\r\n",
        "model = Seq2Seq(enc, dec, device).to(device)"
      ],
      "execution_count": 32,
      "outputs": []
    },
    {
      "cell_type": "markdown",
      "metadata": {
        "id": "sPzA6_9fpWng"
      },
      "source": [
        "#### Initialize model parameters\r\n",
        "Next, we initialize our parameters. The paper states the parameters are initialized from a normal distribution with a mean of 0 and a standard deviation of 0.01, i.e. $\\mathcal{N}(0, 0.01)$. \r\n",
        "\r\n",
        "It also states we should initialize the recurrent parameters to a special initialization, however to keep things simple we'll also initialize them to $\\mathcal{N}(0, 0.01)$."
      ]
    },
    {
      "cell_type": "code",
      "metadata": {
        "colab": {
          "base_uri": "https://localhost:8080/"
        },
        "id": "u5YfLSY6pXG6",
        "outputId": "19c0bb5f-58b6-4b14-8e36-64aacc3cec3c"
      },
      "source": [
        "def init_weights(m):\r\n",
        "    for name, param in m.named_parameters():\r\n",
        "        nn.init.normal_(param.data, mean=0, std=0.01)\r\n",
        "        \r\n",
        "model.apply(init_weights)"
      ],
      "execution_count": 33,
      "outputs": [
        {
          "output_type": "execute_result",
          "data": {
            "text/plain": [
              "Seq2Seq(\n",
              "  (encoder): Encoder(\n",
              "    (embedding): Embedding(10574, 256)\n",
              "    (rnn): GRU(256, 512)\n",
              "    (dropout): Dropout(p=0.5, inplace=False)\n",
              "  )\n",
              "  (decoder): Decoder(\n",
              "    (embedding): Embedding(10695, 256)\n",
              "    (rnn): GRU(768, 512)\n",
              "    (fc_out): Linear(in_features=1280, out_features=10695, bias=True)\n",
              "    (dropout): Dropout(p=0.5, inplace=False)\n",
              "  )\n",
              ")"
            ]
          },
          "metadata": {
            "tags": []
          },
          "execution_count": 33
        }
      ]
    },
    {
      "cell_type": "code",
      "metadata": {
        "colab": {
          "base_uri": "https://localhost:8080/"
        },
        "id": "LNnkx48TpbuF",
        "outputId": "52865dc5-04b0-4662-8ba3-922cd4b3596e"
      },
      "source": [
        "def count_parameters(model):\r\n",
        "    return sum(p.numel() for p in model.parameters() if p.requires_grad)\r\n",
        "\r\n",
        "print(f'The model has {count_parameters(model):,} trainable parameters')"
      ],
      "execution_count": 34,
      "outputs": [
        {
          "output_type": "stream",
          "text": [
            "The model has 22,297,031 trainable parameters\n"
          ],
          "name": "stdout"
        }
      ]
    },
    {
      "cell_type": "markdown",
      "metadata": {
        "id": "k9IPupKCpeJd"
      },
      "source": [
        "#### Initialize optimizer and loss function."
      ]
    },
    {
      "cell_type": "code",
      "metadata": {
        "id": "sJ7VHutspeid"
      },
      "source": [
        "optimizer = optim.Adam(model.parameters())"
      ],
      "execution_count": 35,
      "outputs": []
    },
    {
      "cell_type": "code",
      "metadata": {
        "id": "FL5frM1bpg-l"
      },
      "source": [
        "TRG_PAD_IDX = ANSWERS.vocab.stoi[ANSWERS.pad_token]\r\n",
        "\r\n",
        "criterion = nn.CrossEntropyLoss(ignore_index = TRG_PAD_IDX)"
      ],
      "execution_count": 36,
      "outputs": []
    },
    {
      "cell_type": "markdown",
      "metadata": {
        "id": "QlMU8OcFpsKe"
      },
      "source": [
        "#### TRAIN loop"
      ]
    },
    {
      "cell_type": "code",
      "metadata": {
        "id": "45uvlOFVpuRm"
      },
      "source": [
        "def train(model, iterator, optimizer, criterion, clip):\r\n",
        "    \r\n",
        "    model.train()\r\n",
        "    \r\n",
        "    epoch_loss = 0\r\n",
        "    \r\n",
        "    for i, batch in enumerate(iterator):\r\n",
        "        \r\n",
        "        question = batch.question\r\n",
        "        answer = batch.answer1\r\n",
        "        \r\n",
        "        optimizer.zero_grad()\r\n",
        "        \r\n",
        "        output = model(question, answer)\r\n",
        "        \r\n",
        "        #answer = [answer len, batch size]\r\n",
        "        #output = [answer len, batch size, output dim]\r\n",
        "        \r\n",
        "        output_dim = output.shape[-1]\r\n",
        "        \r\n",
        "        output = output[1:].view(-1, output_dim)\r\n",
        "        answer = answer[1:].view(-1)\r\n",
        "        \r\n",
        "        #answer = [(answer len - 1) * batch size]\r\n",
        "        #output = [(answer len - 1) * batch size, output dim]\r\n",
        "        \r\n",
        "        loss = criterion(output, answer)\r\n",
        "        \r\n",
        "        loss.backward()\r\n",
        "        \r\n",
        "        torch.nn.utils.clip_grad_norm_(model.parameters(), clip)\r\n",
        "        \r\n",
        "        optimizer.step()\r\n",
        "        \r\n",
        "        epoch_loss += loss.item()\r\n",
        "        \r\n",
        "    return epoch_loss / len(iterator)"
      ],
      "execution_count": 37,
      "outputs": []
    },
    {
      "cell_type": "markdown",
      "metadata": {
        "id": "-nP0L_VIpxho"
      },
      "source": [
        "#### Eval loop"
      ]
    },
    {
      "cell_type": "code",
      "metadata": {
        "id": "cM6S2XBlpy5E"
      },
      "source": [
        "def evaluate(model, iterator, criterion):\r\n",
        "    \r\n",
        "    model.eval()\r\n",
        "    \r\n",
        "    epoch_loss = 0\r\n",
        "    \r\n",
        "    with torch.no_grad():\r\n",
        "    \r\n",
        "        for i, batch in enumerate(iterator):\r\n",
        "\r\n",
        "            question = batch.question\r\n",
        "            answer = batch.answer1\r\n",
        "            print\r\n",
        "\r\n",
        "            output = model(question, answer, 0) #turn off teacher forcing\r\n",
        "\r\n",
        "            #answer = [answer len, batch size]\r\n",
        "            #output = [answer len, batch size, output dim]\r\n",
        "\r\n",
        "            output_dim = output.shape[-1]\r\n",
        "            \r\n",
        "            output = output[1:].view(-1, output_dim)\r\n",
        "            answer = answer[1:].view(-1)\r\n",
        "\r\n",
        "            #answer = [(answer len - 1) * batch size]\r\n",
        "            #output = [(answer len - 1) * batch size, output dim]\r\n",
        "\r\n",
        "            loss = criterion(output, answer)\r\n",
        "\r\n",
        "            epoch_loss += loss.item()\r\n",
        "        \r\n",
        "    return epoch_loss / len(iterator)"
      ],
      "execution_count": 38,
      "outputs": []
    },
    {
      "cell_type": "code",
      "metadata": {
        "id": "4e9Gjxg5p0tN"
      },
      "source": [
        "def epoch_time(start_time, end_time):\r\n",
        "    elapsed_time = end_time - start_time\r\n",
        "    elapsed_mins = int(elapsed_time / 60)\r\n",
        "    elapsed_secs = int(elapsed_time - (elapsed_mins * 60))\r\n",
        "    return elapsed_mins, elapsed_secs"
      ],
      "execution_count": 39,
      "outputs": []
    },
    {
      "cell_type": "markdown",
      "metadata": {
        "id": "QlwNF-o7p3ex"
      },
      "source": [
        "### Model train"
      ]
    },
    {
      "cell_type": "code",
      "metadata": {
        "id": "wFVfE6l5Xkqo"
      },
      "source": [
        "train_loss_all = []\r\n",
        "val_loss_all = []"
      ],
      "execution_count": 40,
      "outputs": []
    },
    {
      "cell_type": "code",
      "metadata": {
        "colab": {
          "base_uri": "https://localhost:8080/"
        },
        "id": "-dxWHArZp36D",
        "outputId": "87e44d7a-3d4a-42e2-ab6c-1b12ba1f91fb"
      },
      "source": [
        "N_EPOCHS = 10\r\n",
        "CLIP = 1\r\n",
        "\r\n",
        "best_valid_loss = float('inf')\r\n",
        "\r\n",
        "for epoch in range(N_EPOCHS):\r\n",
        "    \r\n",
        "    start_time = time.time()\r\n",
        "    \r\n",
        "    train_loss = train(model, train_iterator, optimizer, criterion, CLIP)\r\n",
        "    valid_loss = evaluate(model, valid_iterator, criterion)\r\n",
        "    \r\n",
        "    train_loss_all.append(train_loss)\r\n",
        "    val_loss_all.append(valid_loss)\r\n",
        "    \r\n",
        "    end_time = time.time()\r\n",
        "    \r\n",
        "    epoch_mins, epoch_secs = epoch_time(start_time, end_time)\r\n",
        "    \r\n",
        "    if valid_loss < best_valid_loss:\r\n",
        "        best_valid_loss = valid_loss\r\n",
        "        torch.save(model.state_dict(), 'tut2-model.pt')\r\n",
        "    \r\n",
        "    print(f'Epoch: {epoch+1:02} | Time: {epoch_mins}m {epoch_secs}s')\r\n",
        "    print(f'\\tTrain Loss: {train_loss:.3f} | Train PPL: {math.exp(train_loss):7.3f}')\r\n",
        "    print(f'\\t Val. Loss: {valid_loss:.3f} |  Val. PPL: {math.exp(valid_loss):7.3f}')"
      ],
      "execution_count": 41,
      "outputs": [
        {
          "output_type": "stream",
          "text": [
            "Epoch: 01 | Time: 0m 52s\n",
            "\tTrain Loss: 6.065 | Train PPL: 430.386\n",
            "\t Val. Loss: 5.328 |  Val. PPL: 205.970\n",
            "Epoch: 02 | Time: 0m 53s\n",
            "\tTrain Loss: 5.569 | Train PPL: 262.203\n",
            "\t Val. Loss: 5.316 |  Val. PPL: 203.580\n",
            "Epoch: 03 | Time: 0m 54s\n",
            "\tTrain Loss: 5.437 | Train PPL: 229.856\n",
            "\t Val. Loss: 5.306 |  Val. PPL: 201.479\n",
            "Epoch: 04 | Time: 0m 54s\n",
            "\tTrain Loss: 5.237 | Train PPL: 188.085\n",
            "\t Val. Loss: 5.264 |  Val. PPL: 193.289\n",
            "Epoch: 05 | Time: 0m 54s\n",
            "\tTrain Loss: 5.094 | Train PPL: 163.091\n",
            "\t Val. Loss: 5.194 |  Val. PPL: 180.177\n",
            "Epoch: 06 | Time: 0m 54s\n",
            "\tTrain Loss: 4.932 | Train PPL: 138.666\n",
            "\t Val. Loss: 5.146 |  Val. PPL: 171.799\n",
            "Epoch: 07 | Time: 0m 54s\n",
            "\tTrain Loss: 4.757 | Train PPL: 116.420\n",
            "\t Val. Loss: 5.168 |  Val. PPL: 175.583\n",
            "Epoch: 08 | Time: 0m 54s\n",
            "\tTrain Loss: 4.589 | Train PPL:  98.389\n",
            "\t Val. Loss: 5.178 |  Val. PPL: 177.286\n",
            "Epoch: 09 | Time: 0m 54s\n",
            "\tTrain Loss: 4.388 | Train PPL:  80.456\n",
            "\t Val. Loss: 5.249 |  Val. PPL: 190.469\n",
            "Epoch: 10 | Time: 0m 54s\n",
            "\tTrain Loss: 4.156 | Train PPL:  63.827\n",
            "\t Val. Loss: 5.328 |  Val. PPL: 205.973\n"
          ],
          "name": "stdout"
        }
      ]
    },
    {
      "cell_type": "code",
      "metadata": {
        "colab": {
          "base_uri": "https://localhost:8080/"
        },
        "id": "6lTZh4efp8OZ",
        "outputId": "db8a8732-6496-4bb8-dfca-c8d6ef40e73f"
      },
      "source": [
        "model.load_state_dict(torch.load('tut2-model.pt'))\r\n",
        "\r\n",
        "test_loss = evaluate(model, test_iterator, criterion)\r\n",
        "\r\n",
        "print(f'| Test Loss: {test_loss:.3f} | Test PPL: {math.exp(test_loss):7.3f} |')"
      ],
      "execution_count": 42,
      "outputs": [
        {
          "output_type": "stream",
          "text": [
            "| Test Loss: 5.192 | Test PPL: 179.907 |\n"
          ],
          "name": "stdout"
        }
      ]
    },
    {
      "cell_type": "markdown",
      "metadata": {
        "id": "84NRJZjRiin8"
      },
      "source": [
        "\n",
        "Learnings-\n",
        "\n",
        "1. The decoder takes the context vector (generated from encoder) along with embedded input token and previous hidden state to predict hidden state (s_t)\n",
        "2. The context vector is fed to the linear layer along with hidden output to predict the next token.\n",
        "\n",
        "3. Train, test and val split was done as per the set division provided in the dataset. Train, test, val splits do not share documents. Hence, their information is not leaked. Test loss observed = 5.2 (Perplexity score=183)"
      ]
    },
    {
      "cell_type": "markdown",
      "metadata": {
        "id": "o_roiWZmXYPI"
      },
      "source": [
        "Train, val loss curve"
      ]
    },
    {
      "cell_type": "code",
      "metadata": {
        "id": "EmWNe26DXb1q"
      },
      "source": [
        "import matplotlib.pyplot as plt\r\n",
        "def train_test_metrics_graph(train_loss_all, val_loss_all):\r\n",
        "\r\n",
        "    plt.plot(train_loss_all, label=\"Train Loss\")\r\n",
        "    plt.plot(val_loss_all, label=\"Validation Loss\")\r\n",
        "    plt.xlabel(\"Epochs\")\r\n",
        "    plt.ylabel(\"Loss\")\r\n",
        "    plt.title(\"Loss vs Epoch curve\")"
      ],
      "execution_count": 43,
      "outputs": []
    },
    {
      "cell_type": "code",
      "metadata": {
        "colab": {
          "base_uri": "https://localhost:8080/",
          "height": 295
        },
        "id": "JXGPMqqMaJJ1",
        "outputId": "6290ac6e-f1c0-45cb-bf6c-171469065966"
      },
      "source": [
        "train_test_metrics_graph(train_loss_all, val_loss_all)"
      ],
      "execution_count": 44,
      "outputs": [
        {
          "output_type": "display_data",
          "data": {
            "image/png": "[encoded data removed]",
            "text/plain": [
              "<Figure size 432x288 with 1 Axes>"
            ]
          },
          "metadata": {
            "tags": [],
            "needs_background": "light"
          }
        }
      ]
    }
  ]
}